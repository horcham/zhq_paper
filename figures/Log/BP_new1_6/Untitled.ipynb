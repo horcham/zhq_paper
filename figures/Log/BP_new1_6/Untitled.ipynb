{
 "cells": [
  {
   "cell_type": "code",
   "execution_count": 13,
   "metadata": {
    "collapsed": false
   },
   "outputs": [
    {
     "name": "stdout",
     "output_type": "stream",
     "text": [
      "<tensorflow.python.framework.ops.Graph object at 0x7f065300a0d0>\n"
     ]
    }
   ],
   "source": [
    "import tensorflow as tf\n",
    "saver = tf.train.import_meta_graph(\"/media/horcham/E/kaggle/Plant Seedlings Classification/code/conv0/model/model.ckpt-800.meta\")\n",
    "with tf.Session() as sess:\n",
    "    saver.restore(sess,\"/media/horcham/E/kaggle/Plant Seedlings Classification/code/conv0/model/model.ckpt-800\")\n",
    "    print(tf.get_default_graph())\n",
    "    "
   ]
  }
 ],
 "metadata": {
  "anaconda-cloud": {},
  "kernelspec": {
   "display_name": "Python [default]",
   "language": "python",
   "name": "python2"
  },
  "language_info": {
   "codemirror_mode": {
    "name": "ipython",
    "version": 2
   },
   "file_extension": ".py",
   "mimetype": "text/x-python",
   "name": "python",
   "nbconvert_exporter": "python",
   "pygments_lexer": "ipython2",
   "version": "2.7.12"
  }
 },
 "nbformat": 4,
 "nbformat_minor": 2
}
